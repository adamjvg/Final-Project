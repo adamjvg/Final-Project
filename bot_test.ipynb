{
 "cells": [
  {
   "cell_type": "code",
   "execution_count": 1,
   "id": "bc16bf8d",
   "metadata": {},
   "outputs": [
    {
     "data": {
      "text/plain": [
       "'2.3.0-tf'"
      ]
     },
     "execution_count": 1,
     "metadata": {},
     "output_type": "execute_result"
    }
   ],
   "source": [
    "# Import dependencies\n",
    "import pandas as pd\n",
    "import numpy as np\n",
    "\n",
    "import tensorflow\n",
    "tensorflow.keras.__version__"
   ]
  },
  {
   "cell_type": "code",
   "execution_count": 2,
   "id": "d34ee88e",
   "metadata": {},
   "outputs": [],
   "source": [
    "from sklearn.model_selection import train_test_split, GridSearchCV\n",
    "from sklearn.preprocessing import LabelEncoder, MinMaxScaler\n",
    "from tensorflow.keras.utils import to_categorical"
   ]
  },
  {
   "cell_type": "markdown",
   "id": "73478c67",
   "metadata": {},
   "source": [
    "# Import Dataset"
   ]
  },
  {
   "cell_type": "code",
   "execution_count": 3,
   "id": "653563bc",
   "metadata": {},
   "outputs": [
    {
     "data": {
      "text/html": [
       "<div>\n",
       "<style scoped>\n",
       "    .dataframe tbody tr th:only-of-type {\n",
       "        vertical-align: middle;\n",
       "    }\n",
       "\n",
       "    .dataframe tbody tr th {\n",
       "        vertical-align: top;\n",
       "    }\n",
       "\n",
       "    .dataframe thead th {\n",
       "        text-align: right;\n",
       "    }\n",
       "</style>\n",
       "<table border=\"1\" class=\"dataframe\">\n",
       "  <thead>\n",
       "    <tr style=\"text-align: right;\">\n",
       "      <th></th>\n",
       "      <th>id</th>\n",
       "      <th>account_age</th>\n",
       "      <th>no_follower</th>\n",
       "      <th>no_following</th>\n",
       "      <th>no_userfavourites</th>\n",
       "      <th>no_lists</th>\n",
       "      <th>no_tweets</th>\n",
       "      <th>no_retweets</th>\n",
       "      <th>no_hashtag</th>\n",
       "      <th>no_usermention</th>\n",
       "      <th>no_urls</th>\n",
       "      <th>no_char</th>\n",
       "      <th>no_digits</th>\n",
       "      <th>class</th>\n",
       "    </tr>\n",
       "  </thead>\n",
       "  <tbody>\n",
       "    <tr>\n",
       "      <th>0</th>\n",
       "      <td>1</td>\n",
       "      <td>1235</td>\n",
       "      <td>12</td>\n",
       "      <td>31</td>\n",
       "      <td>0</td>\n",
       "      <td>0</td>\n",
       "      <td>108</td>\n",
       "      <td>0</td>\n",
       "      <td>1</td>\n",
       "      <td>0</td>\n",
       "      <td>1</td>\n",
       "      <td>30</td>\n",
       "      <td>0</td>\n",
       "      <td>spammer</td>\n",
       "    </tr>\n",
       "    <tr>\n",
       "      <th>1</th>\n",
       "      <td>2</td>\n",
       "      <td>695</td>\n",
       "      <td>126</td>\n",
       "      <td>569</td>\n",
       "      <td>16</td>\n",
       "      <td>0</td>\n",
       "      <td>5048</td>\n",
       "      <td>1</td>\n",
       "      <td>1</td>\n",
       "      <td>2</td>\n",
       "      <td>1</td>\n",
       "      <td>109</td>\n",
       "      <td>1</td>\n",
       "      <td>spammer</td>\n",
       "    </tr>\n",
       "    <tr>\n",
       "      <th>2</th>\n",
       "      <td>3</td>\n",
       "      <td>448</td>\n",
       "      <td>4</td>\n",
       "      <td>63</td>\n",
       "      <td>0</td>\n",
       "      <td>1</td>\n",
       "      <td>860</td>\n",
       "      <td>0</td>\n",
       "      <td>0</td>\n",
       "      <td>0</td>\n",
       "      <td>1</td>\n",
       "      <td>36</td>\n",
       "      <td>4</td>\n",
       "      <td>spammer</td>\n",
       "    </tr>\n",
       "    <tr>\n",
       "      <th>3</th>\n",
       "      <td>4</td>\n",
       "      <td>1322</td>\n",
       "      <td>8</td>\n",
       "      <td>294</td>\n",
       "      <td>2</td>\n",
       "      <td>0</td>\n",
       "      <td>237</td>\n",
       "      <td>0</td>\n",
       "      <td>0</td>\n",
       "      <td>0</td>\n",
       "      <td>1</td>\n",
       "      <td>35</td>\n",
       "      <td>2</td>\n",
       "      <td>spammer</td>\n",
       "    </tr>\n",
       "    <tr>\n",
       "      <th>4</th>\n",
       "      <td>5</td>\n",
       "      <td>111</td>\n",
       "      <td>1461</td>\n",
       "      <td>1365</td>\n",
       "      <td>438</td>\n",
       "      <td>10</td>\n",
       "      <td>6894</td>\n",
       "      <td>0</td>\n",
       "      <td>1</td>\n",
       "      <td>0</td>\n",
       "      <td>1</td>\n",
       "      <td>55</td>\n",
       "      <td>6</td>\n",
       "      <td>spammer</td>\n",
       "    </tr>\n",
       "  </tbody>\n",
       "</table>\n",
       "</div>"
      ],
      "text/plain": [
       "   id  account_age  no_follower  no_following  no_userfavourites  no_lists  \\\n",
       "0   1         1235           12            31                  0         0   \n",
       "1   2          695          126           569                 16         0   \n",
       "2   3          448            4            63                  0         1   \n",
       "3   4         1322            8           294                  2         0   \n",
       "4   5          111         1461          1365                438        10   \n",
       "\n",
       "   no_tweets  no_retweets  no_hashtag  no_usermention  no_urls  no_char  \\\n",
       "0        108            0           1               0        1       30   \n",
       "1       5048            1           1               2        1      109   \n",
       "2        860            0           0               0        1       36   \n",
       "3        237            0           0               0        1       35   \n",
       "4       6894            0           1               0        1       55   \n",
       "\n",
       "   no_digits    class  \n",
       "0          0  spammer  \n",
       "1          1  spammer  \n",
       "2          4  spammer  \n",
       "3          2  spammer  \n",
       "4          6  spammer  "
      ]
     },
     "execution_count": 3,
     "metadata": {},
     "output_type": "execute_result"
    }
   ],
   "source": [
    "nineFive_random_df = pd.read_csv('dataset/95k-random.csv')\n",
    "nineFive_random_df.head(5)"
   ]
  },
  {
   "cell_type": "code",
   "execution_count": 4,
   "id": "54104b68",
   "metadata": {},
   "outputs": [],
   "source": [
    "nineFive_random_df = nineFive_random_df.drop('id', axis=1)"
   ]
  },
  {
   "cell_type": "markdown",
   "id": "f3bd7c7a",
   "metadata": {},
   "source": [
    "# Data Pre-Processing"
   ]
  },
  {
   "cell_type": "code",
   "execution_count": 5,
   "id": "70c3a860",
   "metadata": {},
   "outputs": [
    {
     "data": {
      "text/plain": [
       "non-spammer    95000\n",
       "spammer         5000\n",
       "Name: class, dtype: int64"
      ]
     },
     "execution_count": 5,
     "metadata": {},
     "output_type": "execute_result"
    }
   ],
   "source": [
    "nineFive_random_df['class'].value_counts()"
   ]
  },
  {
   "cell_type": "code",
   "execution_count": 6,
   "id": "5a2c8e52",
   "metadata": {},
   "outputs": [
    {
     "name": "stdout",
     "output_type": "stream",
     "text": [
      "(100000, 12) (100000,)\n"
     ]
    }
   ],
   "source": [
    "X = nineFive_random_df.drop('class', axis=1)\n",
    "y = nineFive_random_df['class']\n",
    "print(X.shape, y.shape)"
   ]
  },
  {
   "cell_type": "code",
   "execution_count": 7,
   "id": "670f44fd",
   "metadata": {},
   "outputs": [],
   "source": [
    "X_train, X_test, y_train, y_test = train_test_split(\n",
    "    X, y, random_state=1)"
   ]
  },
  {
   "cell_type": "code",
   "execution_count": 8,
   "id": "46bef523",
   "metadata": {},
   "outputs": [],
   "source": [
    "X_scaler = MinMaxScaler().fit(X_train)\n",
    "X_train_scaled = X_scaler.transform(X_train)\n",
    "X_test_scaled = X_scaler.transform(X_test)"
   ]
  },
  {
   "cell_type": "code",
   "execution_count": 9,
   "id": "c3967188",
   "metadata": {},
   "outputs": [],
   "source": [
    "# Label-encode data set\n",
    "label_encoder = LabelEncoder()\n",
    "label_encoder.fit(y_train)\n",
    "encoded_y_train = label_encoder.transform(y_train)\n",
    "encoded_y_test = label_encoder.transform(y_test)"
   ]
  },
  {
   "cell_type": "code",
   "execution_count": 10,
   "id": "888e479a",
   "metadata": {},
   "outputs": [],
   "source": [
    "# Convert encoded labels to one-hot-encoding\n",
    "y_train_categorical = to_categorical(encoded_y_train)\n",
    "y_test_categorical = to_categorical(encoded_y_test)"
   ]
  },
  {
   "cell_type": "markdown",
   "id": "9978d769",
   "metadata": {},
   "source": [
    "# Create a Deep Learning Model"
   ]
  },
  {
   "cell_type": "code",
   "execution_count": 11,
   "id": "be6b674a",
   "metadata": {},
   "outputs": [],
   "source": [
    "from tensorflow.keras.models import Sequential\n",
    "from tensorflow.keras.layers import Dense"
   ]
  },
  {
   "cell_type": "code",
   "execution_count": 24,
   "id": "f7f594f9",
   "metadata": {},
   "outputs": [],
   "source": [
    "# Create model, add layers & hidden nodes\n",
    "model = Sequential()\n",
    "model.add(Dense(units=36, activation='relu', input_dim=12))\n",
    "model.add(Dense(units=36, activation='relu'))\n",
    "model.add(Dense(units=2, activation='softmax'))"
   ]
  },
  {
   "cell_type": "code",
   "execution_count": 25,
   "id": "e2271c79",
   "metadata": {},
   "outputs": [],
   "source": [
    "# Compile and fit the model\n",
    "model.compile(optimizer='adam',\n",
    "             loss='categorical_crossentropy',\n",
    "             metrics=['accuracy'])"
   ]
  },
  {
   "cell_type": "code",
   "execution_count": 26,
   "id": "57902ff6",
   "metadata": {},
   "outputs": [
    {
     "name": "stdout",
     "output_type": "stream",
     "text": [
      "Model: \"sequential_1\"\n",
      "_________________________________________________________________\n",
      "Layer (type)                 Output Shape              Param #   \n",
      "=================================================================\n",
      "dense_3 (Dense)              (None, 36)                468       \n",
      "_________________________________________________________________\n",
      "dense_4 (Dense)              (None, 36)                1332      \n",
      "_________________________________________________________________\n",
      "dense_5 (Dense)              (None, 2)                 74        \n",
      "=================================================================\n",
      "Total params: 1,874\n",
      "Trainable params: 1,874\n",
      "Non-trainable params: 0\n",
      "_________________________________________________________________\n"
     ]
    }
   ],
   "source": [
    "model.summary()"
   ]
  },
  {
   "cell_type": "code",
   "execution_count": 27,
   "id": "0df72934",
   "metadata": {
    "scrolled": false
   },
   "outputs": [
    {
     "name": "stdout",
     "output_type": "stream",
     "text": [
      "Epoch 1/60\n",
      "2344/2344 - 9s - loss: 0.1912 - accuracy: 0.9499\n",
      "Epoch 2/60\n",
      "2344/2344 - 8s - loss: 0.1723 - accuracy: 0.9509\n",
      "Epoch 3/60\n",
      "2344/2344 - 8s - loss: 0.1666 - accuracy: 0.9512\n",
      "Epoch 4/60\n",
      "2344/2344 - 8s - loss: 0.1636 - accuracy: 0.9518\n",
      "Epoch 5/60\n",
      "2344/2344 - 8s - loss: 0.1609 - accuracy: 0.9520\n",
      "Epoch 6/60\n",
      "2344/2344 - 10s - loss: 0.1581 - accuracy: 0.9527\n",
      "Epoch 7/60\n",
      "2344/2344 - 9s - loss: 0.1554 - accuracy: 0.9535\n",
      "Epoch 8/60\n",
      "2344/2344 - 9s - loss: 0.1534 - accuracy: 0.9540\n",
      "Epoch 9/60\n",
      "2344/2344 - 8s - loss: 0.1517 - accuracy: 0.9548\n",
      "Epoch 10/60\n",
      "2344/2344 - 10s - loss: 0.1504 - accuracy: 0.9552\n",
      "Epoch 11/60\n",
      "2344/2344 - 8s - loss: 0.1481 - accuracy: 0.9557\n",
      "Epoch 12/60\n",
      "2344/2344 - 9s - loss: 0.1480 - accuracy: 0.9558\n",
      "Epoch 13/60\n",
      "2344/2344 - 9s - loss: 0.1465 - accuracy: 0.9563\n",
      "Epoch 14/60\n",
      "2344/2344 - 8s - loss: 0.1454 - accuracy: 0.9567\n",
      "Epoch 15/60\n",
      "2344/2344 - 9s - loss: 0.1446 - accuracy: 0.9569\n",
      "Epoch 16/60\n",
      "2344/2344 - 7s - loss: 0.1439 - accuracy: 0.9571\n",
      "Epoch 17/60\n",
      "2344/2344 - 8s - loss: 0.1433 - accuracy: 0.9575\n",
      "Epoch 18/60\n",
      "2344/2344 - 7s - loss: 0.1425 - accuracy: 0.9575\n",
      "Epoch 19/60\n",
      "2344/2344 - 7s - loss: 0.1420 - accuracy: 0.9576\n",
      "Epoch 20/60\n",
      "2344/2344 - 7s - loss: 0.1411 - accuracy: 0.9577\n",
      "Epoch 21/60\n",
      "2344/2344 - 8s - loss: 0.1406 - accuracy: 0.9577\n",
      "Epoch 22/60\n",
      "2344/2344 - 9s - loss: 0.1403 - accuracy: 0.9580\n",
      "Epoch 23/60\n",
      "2344/2344 - 9s - loss: 0.1396 - accuracy: 0.9583\n",
      "Epoch 24/60\n",
      "2344/2344 - 8s - loss: 0.1392 - accuracy: 0.9583\n",
      "Epoch 25/60\n",
      "2344/2344 - 9s - loss: 0.1392 - accuracy: 0.9588\n",
      "Epoch 26/60\n",
      "2344/2344 - 7s - loss: 0.1387 - accuracy: 0.9585\n",
      "Epoch 27/60\n",
      "2344/2344 - 7s - loss: 0.1380 - accuracy: 0.9589\n",
      "Epoch 28/60\n",
      "2344/2344 - 8s - loss: 0.1379 - accuracy: 0.9587\n",
      "Epoch 29/60\n",
      "2344/2344 - 8s - loss: 0.1372 - accuracy: 0.9590\n",
      "Epoch 30/60\n",
      "2344/2344 - 8s - loss: 0.1366 - accuracy: 0.9594\n",
      "Epoch 31/60\n",
      "2344/2344 - 8s - loss: 0.1365 - accuracy: 0.9592\n",
      "Epoch 32/60\n",
      "2344/2344 - 8s - loss: 0.1360 - accuracy: 0.9594\n",
      "Epoch 33/60\n",
      "2344/2344 - 9s - loss: 0.1356 - accuracy: 0.9596\n",
      "Epoch 34/60\n",
      "2344/2344 - 10s - loss: 0.1355 - accuracy: 0.9598\n",
      "Epoch 35/60\n",
      "2344/2344 - 9s - loss: 0.1348 - accuracy: 0.9597\n",
      "Epoch 36/60\n",
      "2344/2344 - 8s - loss: 0.1348 - accuracy: 0.9599\n",
      "Epoch 37/60\n",
      "2344/2344 - 9s - loss: 0.1343 - accuracy: 0.9598\n",
      "Epoch 38/60\n",
      "2344/2344 - 8s - loss: 0.1342 - accuracy: 0.9598\n",
      "Epoch 39/60\n",
      "2344/2344 - 8s - loss: 0.1334 - accuracy: 0.9603\n",
      "Epoch 40/60\n",
      "2344/2344 - 7s - loss: 0.1334 - accuracy: 0.9603\n",
      "Epoch 41/60\n",
      "2344/2344 - 8s - loss: 0.1332 - accuracy: 0.9602\n",
      "Epoch 42/60\n",
      "2344/2344 - 7s - loss: 0.1327 - accuracy: 0.9603\n",
      "Epoch 43/60\n",
      "2344/2344 - 7s - loss: 0.1325 - accuracy: 0.9606\n",
      "Epoch 44/60\n",
      "2344/2344 - 8s - loss: 0.1322 - accuracy: 0.9603\n",
      "Epoch 45/60\n",
      "2344/2344 - 9s - loss: 0.1318 - accuracy: 0.9607\n",
      "Epoch 46/60\n",
      "2344/2344 - 8s - loss: 0.1320 - accuracy: 0.9607\n",
      "Epoch 47/60\n",
      "2344/2344 - 8s - loss: 0.1316 - accuracy: 0.9605\n",
      "Epoch 48/60\n",
      "2344/2344 - 8s - loss: 0.1309 - accuracy: 0.9609\n",
      "Epoch 49/60\n",
      "2344/2344 - 9s - loss: 0.1313 - accuracy: 0.9608\n",
      "Epoch 50/60\n",
      "2344/2344 - 8s - loss: 0.1307 - accuracy: 0.9609\n",
      "Epoch 51/60\n",
      "2344/2344 - 8s - loss: 0.1307 - accuracy: 0.9606\n",
      "Epoch 52/60\n",
      "2344/2344 - 9s - loss: 0.1301 - accuracy: 0.9611\n",
      "Epoch 53/60\n",
      "2344/2344 - 8s - loss: 0.1297 - accuracy: 0.9611\n",
      "Epoch 54/60\n",
      "2344/2344 - 8s - loss: 0.1302 - accuracy: 0.9610\n",
      "Epoch 55/60\n",
      "2344/2344 - 8s - loss: 0.1297 - accuracy: 0.9613\n",
      "Epoch 56/60\n",
      "2344/2344 - 7s - loss: 0.1294 - accuracy: 0.9613\n",
      "Epoch 57/60\n",
      "2344/2344 - 7s - loss: 0.1292 - accuracy: 0.9612\n",
      "Epoch 58/60\n",
      "2344/2344 - 8s - loss: 0.1292 - accuracy: 0.9616\n",
      "Epoch 59/60\n",
      "2344/2344 - 8s - loss: 0.1286 - accuracy: 0.9614\n",
      "Epoch 60/60\n",
      "2344/2344 - 8s - loss: 0.1285 - accuracy: 0.9614\n"
     ]
    },
    {
     "data": {
      "text/plain": [
       "<tensorflow.python.keras.callbacks.History at 0x7ff2546771d0>"
      ]
     },
     "execution_count": 27,
     "metadata": {},
     "output_type": "execute_result"
    }
   ],
   "source": [
    "model.fit(\n",
    "    X_train_scaled,\n",
    "    y_train_categorical,\n",
    "    epochs=60,\n",
    "    shuffle=True,\n",
    "    verbose=2\n",
    ")"
   ]
  },
  {
   "cell_type": "code",
   "execution_count": 28,
   "id": "ab80e890",
   "metadata": {},
   "outputs": [
    {
     "name": "stdout",
     "output_type": "stream",
     "text": [
      "782/782 - 3s - loss: 0.1344 - accuracy: 0.9602\n",
      "Loss: 0.13440033793449402, Accuracy: 0.9602400064468384\n"
     ]
    }
   ],
   "source": [
    "model_loss, model_accuracy = model.evaluate(\n",
    "    X_test_scaled, y_test_categorical, verbose=2)\n",
    "print(\n",
    "    f\"Loss: {model_loss}, Accuracy: {model_accuracy}\")"
   ]
  },
  {
   "cell_type": "code",
   "execution_count": 21,
   "id": "b0ba4b65",
   "metadata": {},
   "outputs": [],
   "source": [
    "encoded_predictions = model.predict_classes(X_test_scaled[:100])\n",
    "prediction_labels = label_encoder.inverse_transform(encoded_predictions)"
   ]
  },
  {
   "cell_type": "code",
   "execution_count": 22,
   "id": "cda245fc",
   "metadata": {},
   "outputs": [],
   "source": [
    "predict = model.predict(X_test_scaled[:100])\n",
    "labels = np.argmax(predict, axis=1)\n",
    "prediction_labels = label_encoder.inverse_transform(labels)"
   ]
  },
  {
   "cell_type": "code",
   "execution_count": 23,
   "id": "d276e0e6",
   "metadata": {
    "scrolled": false
   },
   "outputs": [
    {
     "name": "stdout",
     "output_type": "stream",
     "text": [
      "Predicted Classes: ['non-spammer' 'non-spammer' 'non-spammer' 'non-spammer' 'non-spammer'\n",
      " 'non-spammer' 'non-spammer' 'non-spammer' 'non-spammer' 'non-spammer'\n",
      " 'non-spammer' 'non-spammer' 'non-spammer' 'non-spammer' 'non-spammer'\n",
      " 'non-spammer' 'non-spammer' 'non-spammer' 'non-spammer' 'non-spammer'\n",
      " 'non-spammer' 'non-spammer' 'non-spammer' 'non-spammer' 'non-spammer'\n",
      " 'non-spammer' 'non-spammer' 'non-spammer' 'non-spammer' 'non-spammer'\n",
      " 'non-spammer' 'non-spammer' 'non-spammer' 'non-spammer' 'non-spammer'\n",
      " 'non-spammer' 'non-spammer' 'non-spammer' 'non-spammer' 'non-spammer'\n",
      " 'non-spammer' 'non-spammer' 'non-spammer' 'non-spammer' 'non-spammer'\n",
      " 'non-spammer' 'spammer' 'non-spammer' 'non-spammer' 'non-spammer'\n",
      " 'non-spammer' 'non-spammer' 'non-spammer' 'non-spammer' 'non-spammer'\n",
      " 'non-spammer' 'non-spammer' 'non-spammer' 'non-spammer' 'non-spammer'\n",
      " 'non-spammer' 'non-spammer' 'non-spammer' 'non-spammer' 'non-spammer'\n",
      " 'non-spammer' 'non-spammer' 'non-spammer' 'non-spammer' 'non-spammer'\n",
      " 'non-spammer' 'non-spammer' 'non-spammer' 'non-spammer' 'non-spammer'\n",
      " 'non-spammer' 'non-spammer' 'non-spammer' 'non-spammer' 'non-spammer'\n",
      " 'non-spammer' 'non-spammer' 'non-spammer' 'non-spammer' 'non-spammer'\n",
      " 'non-spammer' 'non-spammer' 'non-spammer' 'non-spammer' 'non-spammer'\n",
      " 'non-spammer' 'non-spammer' 'non-spammer' 'non-spammer' 'non-spammer'\n",
      " 'non-spammer' 'non-spammer' 'non-spammer' 'non-spammer' 'non-spammer']\n",
      "Actual labels: ['non-spammer', 'non-spammer', 'non-spammer', 'non-spammer', 'non-spammer', 'non-spammer', 'non-spammer', 'non-spammer', 'non-spammer', 'non-spammer', 'non-spammer', 'non-spammer', 'non-spammer', 'non-spammer', 'non-spammer', 'non-spammer', 'non-spammer', 'non-spammer', 'non-spammer', 'non-spammer', 'non-spammer', 'non-spammer', 'non-spammer', 'non-spammer', 'non-spammer', 'non-spammer', 'non-spammer', 'non-spammer', 'non-spammer', 'non-spammer', 'non-spammer', 'non-spammer', 'non-spammer', 'non-spammer', 'non-spammer', 'spammer', 'non-spammer', 'non-spammer', 'non-spammer', 'non-spammer', 'non-spammer', 'non-spammer', 'non-spammer', 'non-spammer', 'non-spammer', 'non-spammer', 'spammer', 'non-spammer', 'non-spammer', 'spammer', 'non-spammer', 'non-spammer', 'non-spammer', 'non-spammer', 'non-spammer', 'non-spammer', 'non-spammer', 'non-spammer', 'non-spammer', 'non-spammer', 'non-spammer', 'non-spammer', 'non-spammer', 'non-spammer', 'non-spammer', 'non-spammer', 'spammer', 'non-spammer', 'non-spammer', 'non-spammer', 'non-spammer', 'non-spammer', 'non-spammer', 'non-spammer', 'non-spammer', 'non-spammer', 'non-spammer', 'non-spammer', 'non-spammer', 'non-spammer', 'non-spammer', 'non-spammer', 'non-spammer', 'non-spammer', 'non-spammer', 'non-spammer', 'non-spammer', 'non-spammer', 'non-spammer', 'non-spammer', 'non-spammer', 'spammer', 'non-spammer', 'non-spammer', 'non-spammer', 'non-spammer', 'non-spammer', 'non-spammer', 'non-spammer', 'non-spammer']\n"
     ]
    }
   ],
   "source": [
    "print(f\"Predicted Classes: {prediction_labels}\")\n",
    "print(f\"Actual labels: {list(y_test[:100])}\")"
   ]
  },
  {
   "cell_type": "code",
   "execution_count": null,
   "id": "3db2b2a3",
   "metadata": {},
   "outputs": [],
   "source": []
  }
 ],
 "metadata": {
  "kernelspec": {
   "display_name": "Python 3",
   "language": "python",
   "name": "python3"
  },
  "language_info": {
   "codemirror_mode": {
    "name": "ipython",
    "version": 3
   },
   "file_extension": ".py",
   "mimetype": "text/x-python",
   "name": "python",
   "nbconvert_exporter": "python",
   "pygments_lexer": "ipython3",
   "version": "3.6.13"
  }
 },
 "nbformat": 4,
 "nbformat_minor": 5
}
