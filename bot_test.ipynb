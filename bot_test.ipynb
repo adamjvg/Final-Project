{
 "cells": [
  {
   "cell_type": "code",
   "execution_count": 24,
   "id": "bc16bf8d",
   "metadata": {},
   "outputs": [
    {
     "data": {
      "text/plain": [
       "'2.9.0'"
      ]
     },
     "execution_count": 24,
     "metadata": {},
     "output_type": "execute_result"
    }
   ],
   "source": [
    "# Import dependencies\n",
    "import pandas as pd\n",
    "import numpy as np\n",
    "\n",
    "import tensorflow\n",
    "tensorflow.keras.__version__"
   ]
  },
  {
   "cell_type": "code",
   "execution_count": 25,
   "id": "d34ee88e",
   "metadata": {},
   "outputs": [],
   "source": [
    "from sklearn.model_selection import train_test_split, GridSearchCV\n",
    "from sklearn.preprocessing import LabelEncoder, MinMaxScaler\n",
    "from tensorflow.keras.utils import to_categorical"
   ]
  },
  {
   "cell_type": "markdown",
   "id": "73478c67",
   "metadata": {},
   "source": [
    "# Import Dataset"
   ]
  },
  {
   "cell_type": "code",
   "execution_count": 26,
   "id": "653563bc",
   "metadata": {},
   "outputs": [
    {
     "data": {
      "text/html": [
       "<div>\n",
       "<style scoped>\n",
       "    .dataframe tbody tr th:only-of-type {\n",
       "        vertical-align: middle;\n",
       "    }\n",
       "\n",
       "    .dataframe tbody tr th {\n",
       "        vertical-align: top;\n",
       "    }\n",
       "\n",
       "    .dataframe thead th {\n",
       "        text-align: right;\n",
       "    }\n",
       "</style>\n",
       "<table border=\"1\" class=\"dataframe\">\n",
       "  <thead>\n",
       "    <tr style=\"text-align: right;\">\n",
       "      <th></th>\n",
       "      <th>id</th>\n",
       "      <th>account_age</th>\n",
       "      <th>no_follower</th>\n",
       "      <th>no_following</th>\n",
       "      <th>no_userfavourites</th>\n",
       "      <th>no_lists</th>\n",
       "      <th>no_tweets</th>\n",
       "      <th>no_retweets</th>\n",
       "      <th>no_hashtag</th>\n",
       "      <th>no_usermention</th>\n",
       "      <th>no_urls</th>\n",
       "      <th>no_char</th>\n",
       "      <th>no_digits</th>\n",
       "      <th>class</th>\n",
       "    </tr>\n",
       "  </thead>\n",
       "  <tbody>\n",
       "    <tr>\n",
       "      <th>0</th>\n",
       "      <td>1</td>\n",
       "      <td>1235</td>\n",
       "      <td>12</td>\n",
       "      <td>31</td>\n",
       "      <td>0</td>\n",
       "      <td>0</td>\n",
       "      <td>108</td>\n",
       "      <td>0</td>\n",
       "      <td>1</td>\n",
       "      <td>0</td>\n",
       "      <td>1</td>\n",
       "      <td>30</td>\n",
       "      <td>0</td>\n",
       "      <td>spammer</td>\n",
       "    </tr>\n",
       "    <tr>\n",
       "      <th>1</th>\n",
       "      <td>2</td>\n",
       "      <td>695</td>\n",
       "      <td>126</td>\n",
       "      <td>569</td>\n",
       "      <td>16</td>\n",
       "      <td>0</td>\n",
       "      <td>5048</td>\n",
       "      <td>1</td>\n",
       "      <td>1</td>\n",
       "      <td>2</td>\n",
       "      <td>1</td>\n",
       "      <td>109</td>\n",
       "      <td>1</td>\n",
       "      <td>spammer</td>\n",
       "    </tr>\n",
       "    <tr>\n",
       "      <th>2</th>\n",
       "      <td>3</td>\n",
       "      <td>448</td>\n",
       "      <td>4</td>\n",
       "      <td>63</td>\n",
       "      <td>0</td>\n",
       "      <td>1</td>\n",
       "      <td>860</td>\n",
       "      <td>0</td>\n",
       "      <td>0</td>\n",
       "      <td>0</td>\n",
       "      <td>1</td>\n",
       "      <td>36</td>\n",
       "      <td>4</td>\n",
       "      <td>spammer</td>\n",
       "    </tr>\n",
       "    <tr>\n",
       "      <th>3</th>\n",
       "      <td>4</td>\n",
       "      <td>1322</td>\n",
       "      <td>8</td>\n",
       "      <td>294</td>\n",
       "      <td>2</td>\n",
       "      <td>0</td>\n",
       "      <td>237</td>\n",
       "      <td>0</td>\n",
       "      <td>0</td>\n",
       "      <td>0</td>\n",
       "      <td>1</td>\n",
       "      <td>35</td>\n",
       "      <td>2</td>\n",
       "      <td>spammer</td>\n",
       "    </tr>\n",
       "    <tr>\n",
       "      <th>4</th>\n",
       "      <td>5</td>\n",
       "      <td>111</td>\n",
       "      <td>1461</td>\n",
       "      <td>1365</td>\n",
       "      <td>438</td>\n",
       "      <td>10</td>\n",
       "      <td>6894</td>\n",
       "      <td>0</td>\n",
       "      <td>1</td>\n",
       "      <td>0</td>\n",
       "      <td>1</td>\n",
       "      <td>55</td>\n",
       "      <td>6</td>\n",
       "      <td>spammer</td>\n",
       "    </tr>\n",
       "  </tbody>\n",
       "</table>\n",
       "</div>"
      ],
      "text/plain": [
       "   id  account_age  no_follower  no_following  no_userfavourites  no_lists  \\\n",
       "0   1         1235           12            31                  0         0   \n",
       "1   2          695          126           569                 16         0   \n",
       "2   3          448            4            63                  0         1   \n",
       "3   4         1322            8           294                  2         0   \n",
       "4   5          111         1461          1365                438        10   \n",
       "\n",
       "   no_tweets  no_retweets  no_hashtag  no_usermention  no_urls  no_char  \\\n",
       "0        108            0           1               0        1       30   \n",
       "1       5048            1           1               2        1      109   \n",
       "2        860            0           0               0        1       36   \n",
       "3        237            0           0               0        1       35   \n",
       "4       6894            0           1               0        1       55   \n",
       "\n",
       "   no_digits    class  \n",
       "0          0  spammer  \n",
       "1          1  spammer  \n",
       "2          4  spammer  \n",
       "3          2  spammer  \n",
       "4          6  spammer  "
      ]
     },
     "execution_count": 26,
     "metadata": {},
     "output_type": "execute_result"
    }
   ],
   "source": [
    "nineFive_random_df = pd.read_csv('dataset/95k-random.csv')\n",
    "nineFive_random_df.head(5)"
   ]
  },
  {
   "cell_type": "code",
   "execution_count": 27,
   "id": "54104b68",
   "metadata": {},
   "outputs": [],
   "source": [
    "nineFive_random_df = nineFive_random_df.drop('id', axis=1)"
   ]
  },
  {
   "cell_type": "markdown",
   "id": "f3bd7c7a",
   "metadata": {},
   "source": [
    "# Data Pre-Processing"
   ]
  },
  {
   "cell_type": "code",
   "execution_count": 28,
   "id": "70c3a860",
   "metadata": {},
   "outputs": [
    {
     "data": {
      "text/plain": [
       "non-spammer    95000\n",
       "spammer         5000\n",
       "Name: class, dtype: int64"
      ]
     },
     "execution_count": 28,
     "metadata": {},
     "output_type": "execute_result"
    }
   ],
   "source": [
    "nineFive_random_df['class'].value_counts()"
   ]
  },
  {
   "cell_type": "code",
   "execution_count": 29,
   "id": "5a2c8e52",
   "metadata": {},
   "outputs": [
    {
     "name": "stdout",
     "output_type": "stream",
     "text": [
      "(100000, 12) (100000,)\n"
     ]
    }
   ],
   "source": [
    "X = nineFive_random_df.drop('class', axis=1)\n",
    "y = nineFive_random_df['class']\n",
    "print(X.shape, y.shape)"
   ]
  },
  {
   "cell_type": "code",
   "execution_count": 30,
   "id": "670f44fd",
   "metadata": {},
   "outputs": [],
   "source": [
    "X_train, X_test, y_train, y_test = train_test_split(\n",
    "    X, y, random_state=1)"
   ]
  },
  {
   "cell_type": "code",
   "execution_count": 31,
   "id": "46bef523",
   "metadata": {},
   "outputs": [],
   "source": [
    "X_scaler = MinMaxScaler().fit(X_train)\n",
    "X_train_scaled = X_scaler.transform(X_train)\n",
    "X_test_scaled = X_scaler.transform(X_test)"
   ]
  },
  {
   "cell_type": "code",
   "execution_count": 32,
   "id": "c3967188",
   "metadata": {},
   "outputs": [],
   "source": [
    "# Label-encode data set\n",
    "label_encoder = LabelEncoder()\n",
    "label_encoder.fit(y_train)\n",
    "encoded_y_train = label_encoder.transform(y_train)\n",
    "encoded_y_test = label_encoder.transform(y_test)"
   ]
  },
  {
   "cell_type": "code",
   "execution_count": 33,
   "id": "888e479a",
   "metadata": {},
   "outputs": [],
   "source": [
    "# Convert encoded labels to one-hot-encoding\n",
    "y_train_categorical = to_categorical(encoded_y_train)\n",
    "y_test_categorical = to_categorical(encoded_y_test)"
   ]
  },
  {
   "cell_type": "markdown",
   "id": "9978d769",
   "metadata": {},
   "source": [
    "# Create a Deep Learning Model"
   ]
  },
  {
   "cell_type": "code",
   "execution_count": 34,
   "id": "be6b674a",
   "metadata": {},
   "outputs": [],
   "source": [
    "from tensorflow.keras.models import Sequential\n",
    "from tensorflow.keras.layers import Dense"
   ]
  },
  {
   "cell_type": "code",
   "execution_count": 35,
   "id": "f7f594f9",
   "metadata": {},
   "outputs": [],
   "source": [
    "# Create model, add layers & hidden nodes\n",
    "model = Sequential()\n",
    "model.add(Dense(units=36, activation='relu', input_dim=12))\n",
    "model.add(Dense(units=36, activation='relu'))\n",
    "model.add(Dense(units=2, activation='softmax'))"
   ]
  },
  {
   "cell_type": "code",
   "execution_count": 36,
   "id": "e2271c79",
   "metadata": {},
   "outputs": [],
   "source": [
    "# Compile and fit the model\n",
    "model.compile(optimizer='adam',\n",
    "             loss='categorical_crossentropy',\n",
    "             metrics=['accuracy'])"
   ]
  },
  {
   "cell_type": "code",
   "execution_count": 37,
   "id": "57902ff6",
   "metadata": {},
   "outputs": [
    {
     "name": "stdout",
     "output_type": "stream",
     "text": [
      "Model: \"sequential_1\"\n",
      "_________________________________________________________________\n",
      " Layer (type)                Output Shape              Param #   \n",
      "=================================================================\n",
      " dense_3 (Dense)             (None, 36)                468       \n",
      "                                                                 \n",
      " dense_4 (Dense)             (None, 36)                1332      \n",
      "                                                                 \n",
      " dense_5 (Dense)             (None, 2)                 74        \n",
      "                                                                 \n",
      "=================================================================\n",
      "Total params: 1,874\n",
      "Trainable params: 1,874\n",
      "Non-trainable params: 0\n",
      "_________________________________________________________________\n"
     ]
    }
   ],
   "source": [
    "model.summary()"
   ]
  },
  {
   "cell_type": "code",
   "execution_count": 38,
   "id": "0df72934",
   "metadata": {
    "scrolled": false
   },
   "outputs": [
    {
     "name": "stdout",
     "output_type": "stream",
     "text": [
      "Epoch 1/20\n",
      "2344/2344 - 3s - loss: 0.1905 - accuracy: 0.9495 - 3s/epoch - 1ms/step\n",
      "Epoch 2/20\n",
      "2344/2344 - 2s - loss: 0.1704 - accuracy: 0.9509 - 2s/epoch - 944us/step\n",
      "Epoch 3/20\n",
      "2344/2344 - 3s - loss: 0.1648 - accuracy: 0.9516 - 3s/epoch - 1ms/step\n",
      "Epoch 4/20\n",
      "2344/2344 - 3s - loss: 0.1610 - accuracy: 0.9531 - 3s/epoch - 1ms/step\n",
      "Epoch 5/20\n",
      "2344/2344 - 2s - loss: 0.1585 - accuracy: 0.9539 - 2s/epoch - 966us/step\n",
      "Epoch 6/20\n",
      "2344/2344 - 2s - loss: 0.1559 - accuracy: 0.9543 - 2s/epoch - 995us/step\n",
      "Epoch 7/20\n",
      "2344/2344 - 2s - loss: 0.1541 - accuracy: 0.9550 - 2s/epoch - 959us/step\n",
      "Epoch 8/20\n",
      "2344/2344 - 2s - loss: 0.1526 - accuracy: 0.9554 - 2s/epoch - 966us/step\n",
      "Epoch 9/20\n",
      "2344/2344 - 2s - loss: 0.1514 - accuracy: 0.9555 - 2s/epoch - 1ms/step\n",
      "Epoch 10/20\n",
      "2344/2344 - 2s - loss: 0.1502 - accuracy: 0.9563 - 2s/epoch - 1ms/step\n",
      "Epoch 11/20\n",
      "2344/2344 - 2s - loss: 0.1491 - accuracy: 0.9565 - 2s/epoch - 1ms/step\n",
      "Epoch 12/20\n",
      "2344/2344 - 2s - loss: 0.1478 - accuracy: 0.9565 - 2s/epoch - 991us/step\n",
      "Epoch 13/20\n",
      "2344/2344 - 2s - loss: 0.1467 - accuracy: 0.9571 - 2s/epoch - 985us/step\n",
      "Epoch 14/20\n",
      "2344/2344 - 3s - loss: 0.1460 - accuracy: 0.9570 - 3s/epoch - 1ms/step\n",
      "Epoch 15/20\n",
      "2344/2344 - 3s - loss: 0.1452 - accuracy: 0.9574 - 3s/epoch - 1ms/step\n",
      "Epoch 16/20\n",
      "2344/2344 - 3s - loss: 0.1443 - accuracy: 0.9579 - 3s/epoch - 1ms/step\n",
      "Epoch 17/20\n",
      "2344/2344 - 3s - loss: 0.1432 - accuracy: 0.9581 - 3s/epoch - 1ms/step\n",
      "Epoch 18/20\n",
      "2344/2344 - 2s - loss: 0.1425 - accuracy: 0.9579 - 2s/epoch - 995us/step\n",
      "Epoch 19/20\n",
      "2344/2344 - 2s - loss: 0.1415 - accuracy: 0.9581 - 2s/epoch - 934us/step\n",
      "Epoch 20/20\n",
      "2344/2344 - 2s - loss: 0.1406 - accuracy: 0.9581 - 2s/epoch - 940us/step\n"
     ]
    },
    {
     "data": {
      "text/plain": [
       "<keras.callbacks.History at 0x7f8ebd869f40>"
      ]
     },
     "execution_count": 38,
     "metadata": {},
     "output_type": "execute_result"
    }
   ],
   "source": [
    "model.fit(\n",
    "    X_train_scaled,\n",
    "    y_train_categorical,\n",
    "    epochs=20,\n",
    "    shuffle=True,\n",
    "    verbose=2\n",
    ")"
   ]
  },
  {
   "cell_type": "code",
   "execution_count": 39,
   "id": "ab80e890",
   "metadata": {},
   "outputs": [
    {
     "name": "stdout",
     "output_type": "stream",
     "text": [
      "782/782 - 1s - loss: 0.1407 - accuracy: 0.9588 - 737ms/epoch - 943us/step\n",
      "Loss: 0.1406787633895874, Accuracy: 0.958840012550354\n"
     ]
    }
   ],
   "source": [
    "model_loss, model_accuracy = model.evaluate(\n",
    "    X_test_scaled, y_test_categorical, verbose=2)\n",
    "print(\n",
    "    f\"Loss: {model_loss}, Accuracy: {model_accuracy}\")"
   ]
  },
  {
   "cell_type": "code",
   "execution_count": 40,
   "id": "b0ba4b65",
   "metadata": {},
   "outputs": [
    {
     "ename": "AttributeError",
     "evalue": "'Sequential' object has no attribute 'predict_classes'",
     "output_type": "error",
     "traceback": [
      "\u001b[0;31m---------------------------------------------------------------------------\u001b[0m",
      "\u001b[0;31mAttributeError\u001b[0m                            Traceback (most recent call last)",
      "\u001b[0;32m/var/folders/fk/8bmnwbx95017gpkvh5m0m24r0000gn/T/ipykernel_91499/1000274701.py\u001b[0m in \u001b[0;36m<module>\u001b[0;34m\u001b[0m\n\u001b[0;32m----> 1\u001b[0;31m \u001b[0mencoded_predictions\u001b[0m \u001b[0;34m=\u001b[0m \u001b[0mmodel\u001b[0m\u001b[0;34m.\u001b[0m\u001b[0mpredict_classes\u001b[0m\u001b[0;34m(\u001b[0m\u001b[0mX_test_scaled\u001b[0m\u001b[0;34m[\u001b[0m\u001b[0;34m:\u001b[0m\u001b[0;36m100\u001b[0m\u001b[0;34m]\u001b[0m\u001b[0;34m)\u001b[0m\u001b[0;34m\u001b[0m\u001b[0;34m\u001b[0m\u001b[0m\n\u001b[0m\u001b[1;32m      2\u001b[0m \u001b[0mprediction_labels\u001b[0m \u001b[0;34m=\u001b[0m \u001b[0mlabel_encoder\u001b[0m\u001b[0;34m.\u001b[0m\u001b[0minverse_transform\u001b[0m\u001b[0;34m(\u001b[0m\u001b[0mencoded_predictions\u001b[0m\u001b[0;34m)\u001b[0m\u001b[0;34m\u001b[0m\u001b[0;34m\u001b[0m\u001b[0m\n",
      "\u001b[0;31mAttributeError\u001b[0m: 'Sequential' object has no attribute 'predict_classes'"
     ]
    }
   ],
   "source": [
    "encoded_predictions = model.predict_classes(X_test_scaled[:100])\n",
    "prediction_labels = label_encoder.inverse_transform(encoded_predictions)"
   ]
  },
  {
   "cell_type": "code",
   "execution_count": 41,
   "id": "cda245fc",
   "metadata": {},
   "outputs": [
    {
     "name": "stdout",
     "output_type": "stream",
     "text": [
      "4/4 [==============================] - 0s 1ms/step\n"
     ]
    }
   ],
   "source": [
    "predict = model.predict(X_test_scaled[:100])\n",
    "labels = np.argmax(predict, axis=1)\n",
    "prediction_labels = label_encoder.inverse_transform(labels)"
   ]
  },
  {
   "cell_type": "code",
   "execution_count": 42,
   "id": "d276e0e6",
   "metadata": {
    "scrolled": false
   },
   "outputs": [
    {
     "name": "stdout",
     "output_type": "stream",
     "text": [
      "Predicted Classes: ['non-spammer' 'non-spammer' 'non-spammer' 'non-spammer' 'non-spammer'\n",
      " 'non-spammer' 'non-spammer' 'non-spammer' 'non-spammer' 'non-spammer'\n",
      " 'non-spammer' 'non-spammer' 'non-spammer' 'non-spammer' 'non-spammer'\n",
      " 'non-spammer' 'non-spammer' 'non-spammer' 'non-spammer' 'non-spammer'\n",
      " 'non-spammer' 'non-spammer' 'non-spammer' 'non-spammer' 'non-spammer'\n",
      " 'non-spammer' 'non-spammer' 'non-spammer' 'non-spammer' 'non-spammer'\n",
      " 'non-spammer' 'non-spammer' 'non-spammer' 'non-spammer' 'non-spammer'\n",
      " 'non-spammer' 'non-spammer' 'non-spammer' 'non-spammer' 'non-spammer'\n",
      " 'non-spammer' 'non-spammer' 'non-spammer' 'non-spammer' 'non-spammer'\n",
      " 'non-spammer' 'spammer' 'non-spammer' 'non-spammer' 'non-spammer'\n",
      " 'non-spammer' 'non-spammer' 'non-spammer' 'non-spammer' 'non-spammer'\n",
      " 'non-spammer' 'non-spammer' 'non-spammer' 'non-spammer' 'non-spammer'\n",
      " 'non-spammer' 'non-spammer' 'non-spammer' 'non-spammer' 'non-spammer'\n",
      " 'non-spammer' 'non-spammer' 'non-spammer' 'non-spammer' 'non-spammer'\n",
      " 'non-spammer' 'non-spammer' 'non-spammer' 'non-spammer' 'non-spammer'\n",
      " 'non-spammer' 'non-spammer' 'non-spammer' 'non-spammer' 'non-spammer'\n",
      " 'non-spammer' 'non-spammer' 'non-spammer' 'non-spammer' 'non-spammer'\n",
      " 'non-spammer' 'non-spammer' 'non-spammer' 'non-spammer' 'non-spammer'\n",
      " 'non-spammer' 'non-spammer' 'non-spammer' 'non-spammer' 'non-spammer'\n",
      " 'non-spammer' 'non-spammer' 'non-spammer' 'non-spammer' 'non-spammer']\n",
      "Actual labels: ['non-spammer', 'non-spammer', 'non-spammer', 'non-spammer', 'non-spammer', 'non-spammer', 'non-spammer', 'non-spammer', 'non-spammer', 'non-spammer', 'non-spammer', 'non-spammer', 'non-spammer', 'non-spammer', 'non-spammer', 'non-spammer', 'non-spammer', 'non-spammer', 'non-spammer', 'non-spammer', 'non-spammer', 'non-spammer', 'non-spammer', 'non-spammer', 'non-spammer', 'non-spammer', 'non-spammer', 'non-spammer', 'non-spammer', 'non-spammer', 'non-spammer', 'non-spammer', 'non-spammer', 'non-spammer', 'non-spammer', 'spammer', 'non-spammer', 'non-spammer', 'non-spammer', 'non-spammer', 'non-spammer', 'non-spammer', 'non-spammer', 'non-spammer', 'non-spammer', 'non-spammer', 'spammer', 'non-spammer', 'non-spammer', 'spammer', 'non-spammer', 'non-spammer', 'non-spammer', 'non-spammer', 'non-spammer', 'non-spammer', 'non-spammer', 'non-spammer', 'non-spammer', 'non-spammer', 'non-spammer', 'non-spammer', 'non-spammer', 'non-spammer', 'non-spammer', 'non-spammer', 'spammer', 'non-spammer', 'non-spammer', 'non-spammer', 'non-spammer', 'non-spammer', 'non-spammer', 'non-spammer', 'non-spammer', 'non-spammer', 'non-spammer', 'non-spammer', 'non-spammer', 'non-spammer', 'non-spammer', 'non-spammer', 'non-spammer', 'non-spammer', 'non-spammer', 'non-spammer', 'non-spammer', 'non-spammer', 'non-spammer', 'non-spammer', 'non-spammer', 'spammer', 'non-spammer', 'non-spammer', 'non-spammer', 'non-spammer', 'non-spammer', 'non-spammer', 'non-spammer', 'non-spammer']\n"
     ]
    }
   ],
   "source": [
    "print(f\"Predicted Classes: {prediction_labels}\")\n",
    "print(f\"Actual labels: {list(y_test[:100])}\")"
   ]
  },
  {
   "cell_type": "code",
   "execution_count": 46,
   "id": "eca4222c",
   "metadata": {},
   "outputs": [
    {
     "ename": "NameError",
     "evalue": "name 'scaler' is not defined",
     "output_type": "error",
     "traceback": [
      "\u001b[0;31m---------------------------------------------------------------------------\u001b[0m",
      "\u001b[0;31mNameError\u001b[0m                                 Traceback (most recent call last)",
      "\u001b[0;32m/var/folders/fk/8bmnwbx95017gpkvh5m0m24r0000gn/T/ipykernel_91499/1857157853.py\u001b[0m in \u001b[0;36m<module>\u001b[0;34m\u001b[0m\n\u001b[1;32m      1\u001b[0m \u001b[0;32mimport\u001b[0m \u001b[0mjoblib\u001b[0m\u001b[0;34m\u001b[0m\u001b[0;34m\u001b[0m\u001b[0m\n\u001b[0;32m----> 2\u001b[0;31m \u001b[0mjoblib\u001b[0m\u001b[0;34m.\u001b[0m\u001b[0mdump\u001b[0m\u001b[0;34m(\u001b[0m\u001b[0mscaler\u001b[0m\u001b[0;34m,\u001b[0m\u001b[0;34m\"bot_scaler.pkl\"\u001b[0m\u001b[0;34m)\u001b[0m\u001b[0;34m\u001b[0m\u001b[0;34m\u001b[0m\u001b[0m\n\u001b[0m",
      "\u001b[0;31mNameError\u001b[0m: name 'scaler' is not defined"
     ]
    }
   ],
   "source": [
    "import joblib\n",
    "joblib.dump(scaler,\"bot_scaler.pkl\")"
   ]
  },
  {
   "cell_type": "code",
   "execution_count": 43,
   "id": "3db2b2a3",
   "metadata": {},
   "outputs": [],
   "source": [
    "model.save(\"bot_trained.h5\")"
   ]
  }
 ],
 "metadata": {
  "interpreter": {
   "hash": "4cf615de9974afece084faf78458a1ae7f20a05b69572f502f6e26661eb7da5d"
  },
  "kernelspec": {
   "display_name": "Python 3.9.7 ('base')",
   "language": "python",
   "name": "python3"
  },
  "language_info": {
   "codemirror_mode": {
    "name": "ipython",
    "version": 3
   },
   "file_extension": ".py",
   "mimetype": "text/x-python",
   "name": "python",
   "nbconvert_exporter": "python",
   "pygments_lexer": "ipython3",
   "version": "3.9.7"
  }
 },
 "nbformat": 4,
 "nbformat_minor": 5
}
