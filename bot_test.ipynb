{
 "cells": [
  {
   "cell_type": "code",
   "execution_count": 1,
   "id": "bc16bf8d",
   "metadata": {},
   "outputs": [
    {
     "data": {
      "text/plain": [
       "'2.3.0-tf'"
      ]
     },
     "execution_count": 1,
     "metadata": {},
     "output_type": "execute_result"
    }
   ],
   "source": [
    "# Import dependencies\n",
    "import pandas as pd\n",
    "import numpy as np\n",
    "\n",
    "import tensorflow\n",
    "tensorflow.keras.__version__"
   ]
  },
  {
   "cell_type": "code",
   "execution_count": 2,
   "id": "d34ee88e",
   "metadata": {},
   "outputs": [],
   "source": [
    "from sklearn.model_selection import train_test_split, GridSearchCV\n",
    "from sklearn.preprocessing import LabelEncoder, MinMaxScaler\n",
    "from tensorflow.keras.utils import to_categorical"
   ]
  },
  {
   "cell_type": "markdown",
   "id": "73478c67",
   "metadata": {},
   "source": [
    "# Import Dataset"
   ]
  },
  {
   "cell_type": "code",
   "execution_count": 3,
   "id": "653563bc",
   "metadata": {},
   "outputs": [
    {
     "data": {
      "text/html": [
       "<div>\n",
       "<style scoped>\n",
       "    .dataframe tbody tr th:only-of-type {\n",
       "        vertical-align: middle;\n",
       "    }\n",
       "\n",
       "    .dataframe tbody tr th {\n",
       "        vertical-align: top;\n",
       "    }\n",
       "\n",
       "    .dataframe thead th {\n",
       "        text-align: right;\n",
       "    }\n",
       "</style>\n",
       "<table border=\"1\" class=\"dataframe\">\n",
       "  <thead>\n",
       "    <tr style=\"text-align: right;\">\n",
       "      <th></th>\n",
       "      <th>id</th>\n",
       "      <th>account_age</th>\n",
       "      <th>no_follower</th>\n",
       "      <th>no_following</th>\n",
       "      <th>no_userfavourites</th>\n",
       "      <th>no_lists</th>\n",
       "      <th>no_tweets</th>\n",
       "      <th>no_retweets</th>\n",
       "      <th>no_hashtag</th>\n",
       "      <th>no_usermention</th>\n",
       "      <th>no_urls</th>\n",
       "      <th>no_char</th>\n",
       "      <th>no_digits</th>\n",
       "      <th>class</th>\n",
       "    </tr>\n",
       "  </thead>\n",
       "  <tbody>\n",
       "    <tr>\n",
       "      <th>0</th>\n",
       "      <td>1</td>\n",
       "      <td>1235</td>\n",
       "      <td>12</td>\n",
       "      <td>31</td>\n",
       "      <td>0</td>\n",
       "      <td>0</td>\n",
       "      <td>108</td>\n",
       "      <td>0</td>\n",
       "      <td>1</td>\n",
       "      <td>0</td>\n",
       "      <td>1</td>\n",
       "      <td>30</td>\n",
       "      <td>0</td>\n",
       "      <td>spammer</td>\n",
       "    </tr>\n",
       "    <tr>\n",
       "      <th>1</th>\n",
       "      <td>2</td>\n",
       "      <td>695</td>\n",
       "      <td>126</td>\n",
       "      <td>569</td>\n",
       "      <td>16</td>\n",
       "      <td>0</td>\n",
       "      <td>5048</td>\n",
       "      <td>1</td>\n",
       "      <td>1</td>\n",
       "      <td>2</td>\n",
       "      <td>1</td>\n",
       "      <td>109</td>\n",
       "      <td>1</td>\n",
       "      <td>spammer</td>\n",
       "    </tr>\n",
       "    <tr>\n",
       "      <th>2</th>\n",
       "      <td>3</td>\n",
       "      <td>448</td>\n",
       "      <td>4</td>\n",
       "      <td>63</td>\n",
       "      <td>0</td>\n",
       "      <td>1</td>\n",
       "      <td>860</td>\n",
       "      <td>0</td>\n",
       "      <td>0</td>\n",
       "      <td>0</td>\n",
       "      <td>1</td>\n",
       "      <td>36</td>\n",
       "      <td>4</td>\n",
       "      <td>spammer</td>\n",
       "    </tr>\n",
       "    <tr>\n",
       "      <th>3</th>\n",
       "      <td>4</td>\n",
       "      <td>1322</td>\n",
       "      <td>8</td>\n",
       "      <td>294</td>\n",
       "      <td>2</td>\n",
       "      <td>0</td>\n",
       "      <td>237</td>\n",
       "      <td>0</td>\n",
       "      <td>0</td>\n",
       "      <td>0</td>\n",
       "      <td>1</td>\n",
       "      <td>35</td>\n",
       "      <td>2</td>\n",
       "      <td>spammer</td>\n",
       "    </tr>\n",
       "    <tr>\n",
       "      <th>4</th>\n",
       "      <td>5</td>\n",
       "      <td>111</td>\n",
       "      <td>1461</td>\n",
       "      <td>1365</td>\n",
       "      <td>438</td>\n",
       "      <td>10</td>\n",
       "      <td>6894</td>\n",
       "      <td>0</td>\n",
       "      <td>1</td>\n",
       "      <td>0</td>\n",
       "      <td>1</td>\n",
       "      <td>55</td>\n",
       "      <td>6</td>\n",
       "      <td>spammer</td>\n",
       "    </tr>\n",
       "  </tbody>\n",
       "</table>\n",
       "</div>"
      ],
      "text/plain": [
       "   id  account_age  no_follower  no_following  no_userfavourites  no_lists  \\\n",
       "0   1         1235           12            31                  0         0   \n",
       "1   2          695          126           569                 16         0   \n",
       "2   3          448            4            63                  0         1   \n",
       "3   4         1322            8           294                  2         0   \n",
       "4   5          111         1461          1365                438        10   \n",
       "\n",
       "   no_tweets  no_retweets  no_hashtag  no_usermention  no_urls  no_char  \\\n",
       "0        108            0           1               0        1       30   \n",
       "1       5048            1           1               2        1      109   \n",
       "2        860            0           0               0        1       36   \n",
       "3        237            0           0               0        1       35   \n",
       "4       6894            0           1               0        1       55   \n",
       "\n",
       "   no_digits    class  \n",
       "0          0  spammer  \n",
       "1          1  spammer  \n",
       "2          4  spammer  \n",
       "3          2  spammer  \n",
       "4          6  spammer  "
      ]
     },
     "execution_count": 3,
     "metadata": {},
     "output_type": "execute_result"
    }
   ],
   "source": [
    "nineFive_random_df = pd.read_csv('dataset/95k-random.csv')\n",
    "nineFive_random_df.head(5)"
   ]
  },
  {
   "cell_type": "code",
   "execution_count": 4,
   "id": "54104b68",
   "metadata": {},
   "outputs": [],
   "source": [
    "nineFive_random_df = nineFive_random_df.drop('id', axis=1)"
   ]
  },
  {
   "cell_type": "markdown",
   "id": "f3bd7c7a",
   "metadata": {},
   "source": [
    "# Data Pre-Processing"
   ]
  },
  {
   "cell_type": "code",
   "execution_count": 5,
   "id": "70c3a860",
   "metadata": {},
   "outputs": [
    {
     "data": {
      "text/plain": [
       "non-spammer    95000\n",
       "spammer         5000\n",
       "Name: class, dtype: int64"
      ]
     },
     "execution_count": 5,
     "metadata": {},
     "output_type": "execute_result"
    }
   ],
   "source": [
    "nineFive_random_df['class'].value_counts()"
   ]
  },
  {
   "cell_type": "code",
   "execution_count": 6,
   "id": "5a2c8e52",
   "metadata": {},
   "outputs": [
    {
     "name": "stdout",
     "output_type": "stream",
     "text": [
      "(100000, 12) (100000,)\n"
     ]
    }
   ],
   "source": [
    "X = nineFive_random_df.drop('class', axis=1)\n",
    "y = nineFive_random_df['class']\n",
    "print(X.shape, y.shape)"
   ]
  },
  {
   "cell_type": "code",
   "execution_count": 7,
   "id": "670f44fd",
   "metadata": {},
   "outputs": [],
   "source": [
    "X_train, X_test, y_train, y_test = train_test_split(\n",
    "    X, y, random_state=1)"
   ]
  },
  {
   "cell_type": "code",
   "execution_count": 8,
   "id": "46bef523",
   "metadata": {},
   "outputs": [],
   "source": [
    "X_scaler = MinMaxScaler().fit(X_train)\n",
    "X_train_scaled = X_scaler.transform(X_train)\n",
    "X_test_scaled = X_scaler.transform(X_test)"
   ]
  },
  {
   "cell_type": "code",
   "execution_count": 9,
   "id": "c3967188",
   "metadata": {},
   "outputs": [],
   "source": [
    "# Label-encode data set\n",
    "label_encoder = LabelEncoder()\n",
    "label_encoder.fit(y_train)\n",
    "encoded_y_train = label_encoder.transform(y_train)\n",
    "encoded_y_test = label_encoder.transform(y_test)"
   ]
  },
  {
   "cell_type": "code",
   "execution_count": 10,
   "id": "888e479a",
   "metadata": {},
   "outputs": [],
   "source": [
    "# Convert encoded labels to one-hot-encoding\n",
    "y_train_categorical = to_categorical(encoded_y_train)\n",
    "y_test_categorical = to_categorical(encoded_y_test)"
   ]
  },
  {
   "cell_type": "markdown",
   "id": "9978d769",
   "metadata": {},
   "source": [
    "# Create a Deep Learning Model"
   ]
  },
  {
   "cell_type": "code",
   "execution_count": 11,
   "id": "be6b674a",
   "metadata": {},
   "outputs": [],
   "source": [
    "from tensorflow.keras.models import Sequential\n",
    "from tensorflow.keras.layers import Dense"
   ]
  },
  {
   "cell_type": "code",
   "execution_count": 12,
   "id": "f7f594f9",
   "metadata": {},
   "outputs": [],
   "source": [
    "# Create model, add layers & hidden nodes\n",
    "model = Sequential()\n",
    "model.add(Dense(units=36, activation='relu', input_dim=12))\n",
    "model.add(Dense(units=18, activation='relu'))\n",
    "model.add(Dense(units=9, activation='relu'))\n",
    "model.add(Dense(units=2, activation='softmax'))"
   ]
  },
  {
   "cell_type": "code",
   "execution_count": 13,
   "id": "e2271c79",
   "metadata": {},
   "outputs": [],
   "source": [
    "# Compile and fit the model\n",
    "model.compile(optimizer='adam',\n",
    "             loss='categorical_crossentropy',\n",
    "             metrics=['accuracy'])"
   ]
  },
  {
   "cell_type": "code",
   "execution_count": 14,
   "id": "57902ff6",
   "metadata": {},
   "outputs": [
    {
     "name": "stdout",
     "output_type": "stream",
     "text": [
      "Model: \"sequential\"\n",
      "_________________________________________________________________\n",
      "Layer (type)                 Output Shape              Param #   \n",
      "=================================================================\n",
      "dense (Dense)                (None, 36)                468       \n",
      "_________________________________________________________________\n",
      "dense_1 (Dense)              (None, 18)                666       \n",
      "_________________________________________________________________\n",
      "dense_2 (Dense)              (None, 9)                 171       \n",
      "_________________________________________________________________\n",
      "dense_3 (Dense)              (None, 2)                 20        \n",
      "=================================================================\n",
      "Total params: 1,325\n",
      "Trainable params: 1,325\n",
      "Non-trainable params: 0\n",
      "_________________________________________________________________\n"
     ]
    }
   ],
   "source": [
    "model.summary()"
   ]
  },
  {
   "cell_type": "code",
   "execution_count": 15,
   "id": "0df72934",
   "metadata": {
    "scrolled": false
   },
   "outputs": [
    {
     "name": "stdout",
     "output_type": "stream",
     "text": [
      "Epoch 1/100\n",
      "2344/2344 - 12s - loss: 0.1972 - accuracy: 0.9475\n",
      "Epoch 2/100\n",
      "2344/2344 - 9s - loss: 0.1729 - accuracy: 0.9510\n",
      "Epoch 3/100\n",
      "2344/2344 - 12s - loss: 0.1646 - accuracy: 0.9518\n",
      "Epoch 4/100\n",
      "2344/2344 - 11s - loss: 0.1585 - accuracy: 0.9538\n",
      "Epoch 5/100\n",
      "2344/2344 - 11s - loss: 0.1556 - accuracy: 0.9551\n",
      "Epoch 6/100\n",
      "2344/2344 - 8s - loss: 0.1532 - accuracy: 0.9558\n",
      "Epoch 7/100\n",
      "2344/2344 - 8s - loss: 0.1511 - accuracy: 0.9565\n",
      "Epoch 8/100\n",
      "2344/2344 - 9s - loss: 0.1491 - accuracy: 0.9570\n",
      "Epoch 9/100\n",
      "2344/2344 - 9s - loss: 0.1476 - accuracy: 0.9571\n",
      "Epoch 10/100\n",
      "2344/2344 - 7s - loss: 0.1462 - accuracy: 0.9577\n",
      "Epoch 11/100\n",
      "2344/2344 - 8s - loss: 0.1454 - accuracy: 0.9577\n",
      "Epoch 12/100\n",
      "2344/2344 - 9s - loss: 0.1437 - accuracy: 0.9582\n",
      "Epoch 13/100\n",
      "2344/2344 - 8s - loss: 0.1432 - accuracy: 0.9581\n",
      "Epoch 14/100\n",
      "2344/2344 - 9s - loss: 0.1427 - accuracy: 0.9586\n",
      "Epoch 15/100\n",
      "2344/2344 - 8s - loss: 0.1421 - accuracy: 0.9582\n",
      "Epoch 16/100\n",
      "2344/2344 - 7s - loss: 0.1412 - accuracy: 0.9588\n",
      "Epoch 17/100\n",
      "2344/2344 - 11s - loss: 0.1406 - accuracy: 0.9587\n",
      "Epoch 18/100\n",
      "2344/2344 - 9s - loss: 0.1399 - accuracy: 0.9589\n",
      "Epoch 19/100\n",
      "2344/2344 - 7s - loss: 0.1395 - accuracy: 0.9592\n",
      "Epoch 20/100\n",
      "2344/2344 - 7s - loss: 0.1388 - accuracy: 0.9593\n",
      "Epoch 21/100\n",
      "2344/2344 - 7s - loss: 0.1383 - accuracy: 0.9598\n",
      "Epoch 22/100\n",
      "2344/2344 - 7s - loss: 0.1381 - accuracy: 0.9594\n",
      "Epoch 23/100\n",
      "2344/2344 - 7s - loss: 0.1377 - accuracy: 0.9597\n",
      "Epoch 24/100\n",
      "2344/2344 - 7s - loss: 0.1368 - accuracy: 0.9595\n",
      "Epoch 25/100\n",
      "2344/2344 - 7s - loss: 0.1362 - accuracy: 0.9601\n",
      "Epoch 26/100\n",
      "2344/2344 - 7s - loss: 0.1358 - accuracy: 0.9598\n",
      "Epoch 27/100\n",
      "2344/2344 - 7s - loss: 0.1355 - accuracy: 0.9600\n",
      "Epoch 28/100\n",
      "2344/2344 - 7s - loss: 0.1349 - accuracy: 0.9600\n",
      "Epoch 29/100\n",
      "2344/2344 - 7s - loss: 0.1348 - accuracy: 0.9599\n",
      "Epoch 30/100\n",
      "2344/2344 - 8s - loss: 0.1340 - accuracy: 0.9602\n",
      "Epoch 31/100\n",
      "2344/2344 - 7s - loss: 0.1340 - accuracy: 0.9601\n",
      "Epoch 32/100\n",
      "2344/2344 - 7s - loss: 0.1335 - accuracy: 0.9607\n",
      "Epoch 33/100\n",
      "2344/2344 - 7s - loss: 0.1330 - accuracy: 0.9603\n",
      "Epoch 34/100\n",
      "2344/2344 - 7s - loss: 0.1327 - accuracy: 0.9603\n",
      "Epoch 35/100\n",
      "2344/2344 - 7s - loss: 0.1330 - accuracy: 0.9608\n",
      "Epoch 36/100\n",
      "2344/2344 - 7s - loss: 0.1322 - accuracy: 0.9606\n",
      "Epoch 37/100\n",
      "2344/2344 - 6s - loss: 0.1323 - accuracy: 0.9608\n",
      "Epoch 38/100\n",
      "2344/2344 - 7s - loss: 0.1317 - accuracy: 0.9607\n",
      "Epoch 39/100\n",
      "2344/2344 - 7s - loss: 0.1313 - accuracy: 0.9608\n",
      "Epoch 40/100\n",
      "2344/2344 - 8s - loss: 0.1312 - accuracy: 0.9606\n",
      "Epoch 41/100\n",
      "2344/2344 - 7s - loss: 0.1306 - accuracy: 0.9610\n",
      "Epoch 42/100\n",
      "2344/2344 - 7s - loss: 0.1306 - accuracy: 0.9603\n",
      "Epoch 43/100\n",
      "2344/2344 - 7s - loss: 0.1307 - accuracy: 0.9606\n",
      "Epoch 44/100\n",
      "2344/2344 - 7s - loss: 0.1300 - accuracy: 0.9604\n",
      "Epoch 45/100\n",
      "2344/2344 - 7s - loss: 0.1301 - accuracy: 0.9608\n",
      "Epoch 46/100\n",
      "2344/2344 - 7s - loss: 0.1298 - accuracy: 0.9607\n",
      "Epoch 47/100\n",
      "2344/2344 - 7s - loss: 0.1296 - accuracy: 0.9608\n",
      "Epoch 48/100\n",
      "2344/2344 - 7s - loss: 0.1293 - accuracy: 0.9609\n",
      "Epoch 49/100\n",
      "2344/2344 - 7s - loss: 0.1290 - accuracy: 0.9609\n",
      "Epoch 50/100\n",
      "2344/2344 - 7s - loss: 0.1288 - accuracy: 0.9608\n",
      "Epoch 51/100\n",
      "2344/2344 - 7s - loss: 0.1285 - accuracy: 0.9612\n",
      "Epoch 52/100\n",
      "2344/2344 - 7s - loss: 0.1291 - accuracy: 0.9608\n",
      "Epoch 53/100\n",
      "2344/2344 - 7s - loss: 0.1285 - accuracy: 0.9609\n",
      "Epoch 54/100\n",
      "2344/2344 - 7s - loss: 0.1283 - accuracy: 0.9612\n",
      "Epoch 55/100\n",
      "2344/2344 - 7s - loss: 0.1278 - accuracy: 0.9609\n",
      "Epoch 56/100\n",
      "2344/2344 - 7s - loss: 0.1276 - accuracy: 0.9613\n",
      "Epoch 57/100\n",
      "2344/2344 - 6s - loss: 0.1274 - accuracy: 0.9612\n",
      "Epoch 58/100\n",
      "2344/2344 - 7s - loss: 0.1277 - accuracy: 0.9611\n",
      "Epoch 59/100\n",
      "2344/2344 - 7s - loss: 0.1279 - accuracy: 0.9611\n",
      "Epoch 60/100\n",
      "2344/2344 - 7s - loss: 0.1277 - accuracy: 0.9613\n",
      "Epoch 61/100\n",
      "2344/2344 - 7s - loss: 0.1269 - accuracy: 0.9612\n",
      "Epoch 62/100\n",
      "2344/2344 - 7s - loss: 0.1271 - accuracy: 0.9614\n",
      "Epoch 63/100\n",
      "2344/2344 - 7s - loss: 0.1268 - accuracy: 0.9614\n",
      "Epoch 64/100\n",
      "2344/2344 - 8s - loss: 0.1265 - accuracy: 0.9616\n",
      "Epoch 65/100\n",
      "2344/2344 - 7s - loss: 0.1268 - accuracy: 0.9616\n",
      "Epoch 66/100\n",
      "2344/2344 - 8s - loss: 0.1266 - accuracy: 0.9616\n",
      "Epoch 67/100\n",
      "2344/2344 - 9s - loss: 0.1263 - accuracy: 0.9615\n",
      "Epoch 68/100\n",
      "2344/2344 - 9s - loss: 0.1258 - accuracy: 0.9615\n",
      "Epoch 69/100\n",
      "2344/2344 - 10s - loss: 0.1261 - accuracy: 0.9616\n",
      "Epoch 70/100\n",
      "2344/2344 - 12s - loss: 0.1259 - accuracy: 0.9617\n",
      "Epoch 71/100\n",
      "2344/2344 - 8s - loss: 0.1256 - accuracy: 0.9621\n",
      "Epoch 72/100\n",
      "2344/2344 - 9s - loss: 0.1263 - accuracy: 0.9616\n",
      "Epoch 73/100\n",
      "2344/2344 - 9s - loss: 0.1258 - accuracy: 0.9612\n",
      "Epoch 74/100\n",
      "2344/2344 - 8s - loss: 0.1258 - accuracy: 0.9618\n",
      "Epoch 75/100\n",
      "2344/2344 - 8s - loss: 0.1253 - accuracy: 0.9618\n",
      "Epoch 76/100\n",
      "2344/2344 - 9s - loss: 0.1254 - accuracy: 0.9618\n",
      "Epoch 77/100\n",
      "2344/2344 - 9s - loss: 0.1252 - accuracy: 0.9619\n",
      "Epoch 78/100\n",
      "2344/2344 - 9s - loss: 0.1249 - accuracy: 0.9622\n",
      "Epoch 79/100\n",
      "2344/2344 - 8s - loss: 0.1248 - accuracy: 0.9618\n",
      "Epoch 80/100\n",
      "2344/2344 - 9s - loss: 0.1252 - accuracy: 0.9617\n",
      "Epoch 81/100\n",
      "2344/2344 - 9s - loss: 0.1242 - accuracy: 0.9622\n",
      "Epoch 82/100\n",
      "2344/2344 - 8s - loss: 0.1243 - accuracy: 0.9620\n",
      "Epoch 83/100\n",
      "2344/2344 - 9s - loss: 0.1243 - accuracy: 0.9620\n",
      "Epoch 84/100\n",
      "2344/2344 - 8s - loss: 0.1243 - accuracy: 0.9618\n",
      "Epoch 85/100\n",
      "2344/2344 - 8s - loss: 0.1241 - accuracy: 0.9622\n",
      "Epoch 86/100\n",
      "2344/2344 - 8s - loss: 0.1244 - accuracy: 0.9618\n",
      "Epoch 87/100\n",
      "2344/2344 - 9s - loss: 0.1239 - accuracy: 0.9623\n",
      "Epoch 88/100\n",
      "2344/2344 - 10s - loss: 0.1238 - accuracy: 0.9623\n",
      "Epoch 89/100\n",
      "2344/2344 - 9s - loss: 0.1240 - accuracy: 0.9622\n",
      "Epoch 90/100\n",
      "2344/2344 - 9s - loss: 0.1235 - accuracy: 0.9622\n",
      "Epoch 91/100\n",
      "2344/2344 - 10s - loss: 0.1236 - accuracy: 0.9625\n",
      "Epoch 92/100\n",
      "2344/2344 - 10s - loss: 0.1237 - accuracy: 0.9620\n",
      "Epoch 93/100\n",
      "2344/2344 - 9s - loss: 0.1236 - accuracy: 0.9619\n",
      "Epoch 94/100\n",
      "2344/2344 - 9s - loss: 0.1226 - accuracy: 0.9625\n",
      "Epoch 95/100\n",
      "2344/2344 - 12s - loss: 0.1230 - accuracy: 0.9626\n",
      "Epoch 96/100\n",
      "2344/2344 - 9s - loss: 0.1228 - accuracy: 0.9624\n",
      "Epoch 97/100\n",
      "2344/2344 - 9s - loss: 0.1225 - accuracy: 0.9624\n",
      "Epoch 98/100\n",
      "2344/2344 - 9s - loss: 0.1228 - accuracy: 0.9623\n",
      "Epoch 99/100\n",
      "2344/2344 - 9s - loss: 0.1226 - accuracy: 0.9625\n",
      "Epoch 100/100\n",
      "2344/2344 - 9s - loss: 0.1233 - accuracy: 0.9623\n"
     ]
    },
    {
     "data": {
      "text/plain": [
       "<tensorflow.python.keras.callbacks.History at 0x7f1196f5a470>"
      ]
     },
     "execution_count": 15,
     "metadata": {},
     "output_type": "execute_result"
    }
   ],
   "source": [
    "model.fit(\n",
    "    X_train_scaled,\n",
    "    y_train_categorical,\n",
    "    epochs=100,\n",
    "    shuffle=True,\n",
    "    verbose=2\n",
    ")"
   ]
  },
  {
   "cell_type": "code",
   "execution_count": 16,
   "id": "ab80e890",
   "metadata": {},
   "outputs": [
    {
     "name": "stdout",
     "output_type": "stream",
     "text": [
      "782/782 - 3s - loss: 0.1295 - accuracy: 0.9630\n",
      "Loss: 0.1294928640127182, Accuracy: 0.9629999995231628\n"
     ]
    }
   ],
   "source": [
    "model_loss, model_accuracy = model.evaluate(\n",
    "    X_test_scaled, y_test_categorical, verbose=2)\n",
    "print(\n",
    "    f\"Loss: {model_loss}, Accuracy: {model_accuracy}\")"
   ]
  },
  {
   "cell_type": "code",
   "execution_count": 17,
   "id": "b0ba4b65",
   "metadata": {},
   "outputs": [
    {
     "name": "stdout",
     "output_type": "stream",
     "text": [
      "WARNING:tensorflow:From <ipython-input-17-780255fd8144>:1: Sequential.predict_classes (from tensorflow.python.keras.engine.sequential) is deprecated and will be removed after 2021-01-01.\n",
      "Instructions for updating:\n",
      "Please use instead:* `np.argmax(model.predict(x), axis=-1)`,   if your model does multi-class classification   (e.g. if it uses a `softmax` last-layer activation).* `(model.predict(x) > 0.5).astype(\"int32\")`,   if your model does binary classification   (e.g. if it uses a `sigmoid` last-layer activation).\n"
     ]
    }
   ],
   "source": [
    "encoded_predictions = model.predict_classes(X_test_scaled[:100])\n",
    "prediction_labels = label_encoder.inverse_transform(encoded_predictions)"
   ]
  },
  {
   "cell_type": "code",
   "execution_count": 18,
   "id": "cda245fc",
   "metadata": {},
   "outputs": [],
   "source": [
    "predict = model.predict(X_test_scaled[:100])\n",
    "labels = np.argmax(predict, axis=1)\n",
    "prediction_labels = label_encoder.inverse_transform(labels)"
   ]
  },
  {
   "cell_type": "code",
   "execution_count": 19,
   "id": "d276e0e6",
   "metadata": {
    "scrolled": false
   },
   "outputs": [
    {
     "name": "stdout",
     "output_type": "stream",
     "text": [
      "Predicted Classes: ['non-spammer' 'non-spammer' 'non-spammer' 'non-spammer' 'non-spammer'\n",
      " 'non-spammer' 'non-spammer' 'non-spammer' 'non-spammer' 'non-spammer'\n",
      " 'non-spammer' 'non-spammer' 'non-spammer' 'non-spammer' 'non-spammer'\n",
      " 'non-spammer' 'non-spammer' 'non-spammer' 'non-spammer' 'non-spammer'\n",
      " 'non-spammer' 'non-spammer' 'non-spammer' 'non-spammer' 'non-spammer'\n",
      " 'non-spammer' 'non-spammer' 'non-spammer' 'non-spammer' 'non-spammer'\n",
      " 'non-spammer' 'non-spammer' 'non-spammer' 'non-spammer' 'non-spammer'\n",
      " 'non-spammer' 'non-spammer' 'non-spammer' 'non-spammer' 'non-spammer'\n",
      " 'non-spammer' 'non-spammer' 'non-spammer' 'non-spammer' 'non-spammer'\n",
      " 'non-spammer' 'spammer' 'non-spammer' 'non-spammer' 'non-spammer'\n",
      " 'non-spammer' 'non-spammer' 'non-spammer' 'non-spammer' 'non-spammer'\n",
      " 'non-spammer' 'non-spammer' 'non-spammer' 'non-spammer' 'non-spammer'\n",
      " 'non-spammer' 'non-spammer' 'non-spammer' 'non-spammer' 'non-spammer'\n",
      " 'non-spammer' 'non-spammer' 'non-spammer' 'non-spammer' 'non-spammer'\n",
      " 'non-spammer' 'non-spammer' 'non-spammer' 'non-spammer' 'non-spammer'\n",
      " 'non-spammer' 'non-spammer' 'non-spammer' 'non-spammer' 'non-spammer'\n",
      " 'non-spammer' 'non-spammer' 'non-spammer' 'non-spammer' 'non-spammer'\n",
      " 'non-spammer' 'non-spammer' 'non-spammer' 'non-spammer' 'non-spammer'\n",
      " 'non-spammer' 'non-spammer' 'non-spammer' 'non-spammer' 'non-spammer'\n",
      " 'non-spammer' 'non-spammer' 'non-spammer' 'non-spammer' 'non-spammer']\n",
      "Actual labels: ['non-spammer', 'non-spammer', 'non-spammer', 'non-spammer', 'non-spammer', 'non-spammer', 'non-spammer', 'non-spammer', 'non-spammer', 'non-spammer', 'non-spammer', 'non-spammer', 'non-spammer', 'non-spammer', 'non-spammer', 'non-spammer', 'non-spammer', 'non-spammer', 'non-spammer', 'non-spammer', 'non-spammer', 'non-spammer', 'non-spammer', 'non-spammer', 'non-spammer', 'non-spammer', 'non-spammer', 'non-spammer', 'non-spammer', 'non-spammer', 'non-spammer', 'non-spammer', 'non-spammer', 'non-spammer', 'non-spammer', 'spammer', 'non-spammer', 'non-spammer', 'non-spammer', 'non-spammer', 'non-spammer', 'non-spammer', 'non-spammer', 'non-spammer', 'non-spammer', 'non-spammer', 'spammer', 'non-spammer', 'non-spammer', 'spammer', 'non-spammer', 'non-spammer', 'non-spammer', 'non-spammer', 'non-spammer', 'non-spammer', 'non-spammer', 'non-spammer', 'non-spammer', 'non-spammer', 'non-spammer', 'non-spammer', 'non-spammer', 'non-spammer', 'non-spammer', 'non-spammer', 'spammer', 'non-spammer', 'non-spammer', 'non-spammer', 'non-spammer', 'non-spammer', 'non-spammer', 'non-spammer', 'non-spammer', 'non-spammer', 'non-spammer', 'non-spammer', 'non-spammer', 'non-spammer', 'non-spammer', 'non-spammer', 'non-spammer', 'non-spammer', 'non-spammer', 'non-spammer', 'non-spammer', 'non-spammer', 'non-spammer', 'non-spammer', 'non-spammer', 'spammer', 'non-spammer', 'non-spammer', 'non-spammer', 'non-spammer', 'non-spammer', 'non-spammer', 'non-spammer', 'non-spammer']\n"
     ]
    }
   ],
   "source": [
    "print(f\"Predicted Classes: {prediction_labels}\")\n",
    "print(f\"Actual labels: {list(y_test[:100])}\")"
   ]
  },
  {
   "cell_type": "code",
   "execution_count": 20,
   "id": "eca4222c",
   "metadata": {},
   "outputs": [],
   "source": [
    "# import joblib\n",
    "# joblib.dump(scaler,\"bot_scaler.pkl\")"
   ]
  },
  {
   "cell_type": "code",
   "execution_count": 21,
   "id": "3db2b2a3",
   "metadata": {},
   "outputs": [],
   "source": [
    "model.save(\"bot_trained.h5\")"
   ]
  }
 ],
 "metadata": {
  "interpreter": {
   "hash": "4cf615de9974afece084faf78458a1ae7f20a05b69572f502f6e26661eb7da5d"
  },
  "kernelspec": {
   "display_name": "Python 3",
   "language": "python",
   "name": "python3"
  },
  "language_info": {
   "codemirror_mode": {
    "name": "ipython",
    "version": 3
   },
   "file_extension": ".py",
   "mimetype": "text/x-python",
   "name": "python",
   "nbconvert_exporter": "python",
   "pygments_lexer": "ipython3",
   "version": "3.6.13"
  }
 },
 "nbformat": 4,
 "nbformat_minor": 5
}
