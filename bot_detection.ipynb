{
 "cells": [
  {
   "cell_type": "markdown",
   "metadata": {},
   "source": [
    "Detecting Twitter bots"
   ]
  },
  {
   "cell_type": "code",
   "execution_count": 4,
   "metadata": {},
   "outputs": [
    {
     "name": "stderr",
     "output_type": "stream",
     "text": [
      "[nltk_data] Downloading package stopwords to\n",
      "[nltk_data]     /Users/adamvangeleuken/nltk_data...\n",
      "[nltk_data]   Unzipping corpora/stopwords.zip.\n"
     ]
    },
    {
     "data": {
      "text/plain": [
       "True"
      ]
     },
     "execution_count": 4,
     "metadata": {},
     "output_type": "execute_result"
    }
   ],
   "source": [
    "import pandas as pd # Data manipulation\n",
    "import matplotlib.pyplot as plt # Plotting\n",
    "import re, io, json, requests \n",
    "import tweepy as tp \n",
    "nltk.download('stopwords')\n"
   ]
  },
  {
   "cell_type": "code",
   "execution_count": null,
   "metadata": {},
   "outputs": [],
   "source": [
    "class twitter_creds:\n",
    "    def __init__(self, credential_list):\n",
    "        self.CONSUMER_KEY = credential_list[0]#CONSUMER_KEY\n",
    "        self.CONSUMER_SECRET = credential_list[1]#CONSUMER_SECRET\n",
    "        self.ACCESS_TOKEN = credential_list[2]#ACCESS_TOKEN\n",
    "        self.ACCESS_TOKEN_SECRET = credential_list[3]#ACCESS_TOKEN_SECRET\n",
    "\n",
    "\n",
    "CONSUMER_KEY = \"your_consumer_key [EDIT THIS]\"\n",
    "CONSUMER_SECRET = \"your_consumer_secret_key [EDIT THIS]\"\n",
    "ACCESS_TOKEN = \"your_access_token [EDIT THIS]\"\n",
    "ACCESS_TOKEN_SECRET = \"your_access_token_secret_key [EDIT THIS]\"\n",
    "\n",
    "credentials = [CONSUMER_KEY,CONSUMER_SECRET,ACCESS_TOKEN, ACCESS_TOKEN_SECRET]\n",
    "    \n",
    "twitter_credentials = twitter_creds(credentials)\n",
    "print(\"Consumer key: {}\".format(twitter_credentials.CONSUMER_KEY))\n",
    "print(\"Access token: {}\".format(twitter_credentials.ACCESS_TOKEN))"
   ]
  }
 ],
 "metadata": {
  "interpreter": {
   "hash": "4cf615de9974afece084faf78458a1ae7f20a05b69572f502f6e26661eb7da5d"
  },
  "kernelspec": {
   "display_name": "Python 3.9.7 ('base')",
   "language": "python",
   "name": "python3"
  },
  "language_info": {
   "codemirror_mode": {
    "name": "ipython",
    "version": 3
   },
   "file_extension": ".py",
   "mimetype": "text/x-python",
   "name": "python",
   "nbconvert_exporter": "python",
   "pygments_lexer": "ipython3",
   "version": "3.9.7"
  },
  "orig_nbformat": 4
 },
 "nbformat": 4,
 "nbformat_minor": 2
}
